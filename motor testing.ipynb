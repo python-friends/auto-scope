{
 "cells": [
  {
   "cell_type": "code",
   "execution_count": 1,
   "metadata": {},
   "outputs": [],
   "source": [
    "#!/usr/bin/python\n",
    "# Import required libraries\n",
    "import sys\n",
    "import time\n",
    "import RPi.GPIO as GPIO"
   ]
  },
  {
   "cell_type": "code",
   "execution_count": 2,
   "metadata": {},
   "outputs": [],
   "source": [
    "def step(pins, direction=1, nsteps=1000, speed=1):\n",
    "    # Use BCM GPIO references\n",
    "    # instead of physical pin numbers\n",
    "    GPIO.setmode(GPIO.BCM)\n",
    "    StepPins = pins\n",
    "    # Set all pins as output\n",
    "    for pin in StepPins:\n",
    "      GPIO.setup(pin,GPIO.OUT)\n",
    "      GPIO.output(pin, False)\n",
    "\n",
    "    # Define advanced sequence\n",
    "    # as shown in manufacturers datasheet\n",
    "    Seq = [[1,0,0,1],\n",
    "           [1,0,0,0],\n",
    "           [1,1,0,0],\n",
    "           [0,1,0,0],\n",
    "           [0,1,1,0],\n",
    "           [0,0,1,0],\n",
    "           [0,0,1,1],\n",
    "           [0,0,0,1]]\n",
    "\n",
    "    StepCount = len(Seq)\n",
    "    StepDir = direction # Set to 1 or 2 for clockwise\n",
    "                # Set to -1 or -2 for anti-clockwise\n",
    "\n",
    "    # Read wait time from command line\n",
    "    wait = 1\n",
    "\n",
    "    if wait:\n",
    "      WaitTime = float(wait)/float(1000)\n",
    "    else:\n",
    "      WaitTime = 10/float(1000)\n",
    "\n",
    "    # Initialise variables\n",
    "    StepCounter = 0\n",
    "\n",
    "    # Start main loop\n",
    "    for _ in range (nsteps):\n",
    "\n",
    "      for pin in range(0, 4):\n",
    "        xpin = StepPins[pin]\n",
    "        if Seq[StepCounter][pin]!=0:\n",
    "          GPIO.output(xpin, True)\n",
    "        else:\n",
    "          GPIO.output(xpin, False)\n",
    "\n",
    "      StepCounter += StepDir\n",
    "\n",
    "      # If we reach the end of the sequence\n",
    "      # start again\n",
    "      if (StepCounter>=StepCount):\n",
    "        StepCounter = 0\n",
    "      if (StepCounter<0):\n",
    "        StepCounter = StepCount+StepDir\n",
    "\n",
    "      # Wait before moving on\n",
    "      time.sleep(WaitTime)\n",
    "\n",
    "    GPIO.cleanup()\n",
    "    "
   ]
  },
  {
   "cell_type": "code",
   "execution_count": 3,
   "metadata": {},
   "outputs": [],
   "source": [
    "x = [17,22,23,24]\n",
    "y = [6,13,19,26]\n",
    "UP = 1\n",
    "DOWN = -1\n",
    "RIGHT = -1\n",
    "LEFT= 1\n",
    "nsteps = 2000"
   ]
  },
  {
   "cell_type": "code",
   "execution_count": 5,
   "metadata": {},
   "outputs": [],
   "source": [
    "step(x, LEFT, 1000)"
   ]
  },
  {
   "cell_type": "code",
   "execution_count": 14,
   "metadata": {},
   "outputs": [
    {
     "ename": "KeyboardInterrupt",
     "evalue": "",
     "output_type": "error",
     "traceback": [
      "\u001b[0;31m---------------------------------------------------------------------------\u001b[0m",
      "\u001b[0;31mKeyboardInterrupt\u001b[0m                         Traceback (most recent call last)",
      "\u001b[0;32m<ipython-input-14-845c268f5125>\u001b[0m in \u001b[0;36m<module>\u001b[0;34m()\u001b[0m\n\u001b[1;32m      1\u001b[0m \u001b[0;32mfor\u001b[0m \u001b[0mi\u001b[0m \u001b[0;32min\u001b[0m \u001b[0mrange\u001b[0m\u001b[0;34m(\u001b[0m\u001b[0;36m20\u001b[0m\u001b[0;34m)\u001b[0m\u001b[0;34m:\u001b[0m\u001b[0;34m\u001b[0m\u001b[0m\n\u001b[0;32m----> 2\u001b[0;31m     \u001b[0mstep\u001b[0m\u001b[0;34m(\u001b[0m\u001b[0mx\u001b[0m\u001b[0;34m,\u001b[0m \u001b[0mRIGHT\u001b[0m\u001b[0;34m,\u001b[0m \u001b[0mnsteps\u001b[0m\u001b[0;34m)\u001b[0m\u001b[0;34m\u001b[0m\u001b[0m\n\u001b[0m\u001b[1;32m      3\u001b[0m     \u001b[0mstep\u001b[0m\u001b[0;34m(\u001b[0m\u001b[0my\u001b[0m\u001b[0;34m,\u001b[0m \u001b[0mDOWN\u001b[0m\u001b[0;34m,\u001b[0m \u001b[0mnsteps\u001b[0m\u001b[0;34m)\u001b[0m\u001b[0;34m\u001b[0m\u001b[0m\n\u001b[1;32m      4\u001b[0m     \u001b[0mstep\u001b[0m\u001b[0;34m(\u001b[0m\u001b[0mx\u001b[0m\u001b[0;34m,\u001b[0m \u001b[0mLEFT\u001b[0m\u001b[0;34m,\u001b[0m \u001b[0mnsteps\u001b[0m\u001b[0;34m)\u001b[0m\u001b[0;34m\u001b[0m\u001b[0m\n\u001b[1;32m      5\u001b[0m     \u001b[0mstep\u001b[0m\u001b[0;34m(\u001b[0m\u001b[0my\u001b[0m\u001b[0;34m,\u001b[0m \u001b[0mUP\u001b[0m\u001b[0;34m,\u001b[0m \u001b[0mnsteps\u001b[0m\u001b[0;34m)\u001b[0m\u001b[0;34m\u001b[0m\u001b[0m\n",
      "\u001b[0;32m<ipython-input-7-2763499bf4ad>\u001b[0m in \u001b[0;36mstep\u001b[0;34m(pins, direction, nsteps, speed)\u001b[0m\n\u001b[1;32m     55\u001b[0m \u001b[0;34m\u001b[0m\u001b[0m\n\u001b[1;32m     56\u001b[0m       \u001b[0;31m# Wait before moving on\u001b[0m\u001b[0;34m\u001b[0m\u001b[0;34m\u001b[0m\u001b[0m\n\u001b[0;32m---> 57\u001b[0;31m       \u001b[0mtime\u001b[0m\u001b[0;34m.\u001b[0m\u001b[0msleep\u001b[0m\u001b[0;34m(\u001b[0m\u001b[0mWaitTime\u001b[0m\u001b[0;34m)\u001b[0m\u001b[0;34m\u001b[0m\u001b[0m\n\u001b[0m\u001b[1;32m     58\u001b[0m \u001b[0;34m\u001b[0m\u001b[0m\n\u001b[1;32m     59\u001b[0m     \u001b[0mGPIO\u001b[0m\u001b[0;34m.\u001b[0m\u001b[0mcleanup\u001b[0m\u001b[0;34m(\u001b[0m\u001b[0;34m)\u001b[0m\u001b[0;34m\u001b[0m\u001b[0m\n",
      "\u001b[0;31mKeyboardInterrupt\u001b[0m: "
     ]
    }
   ],
   "source": [
    "for i in range(20):\n",
    "    step(x, RIGHT, nsteps)\n",
    "    step(y, DOWN, nsteps)\n",
    "    step(x, LEFT, nsteps)\n",
    "    step(y, UP, nsteps)\n",
    "    "
   ]
  },
  {
   "cell_type": "code",
   "execution_count": 5,
   "metadata": {},
   "outputs": [],
   "source": [
    "class Stage:\n",
    "    def __init__(self, xpins, ypins):\n",
    "        self.xpins = xpins\n",
    "        self.ypins = ypins\n",
    "        self.xpos = 0\n",
    "        self.ypos = 0\n",
    "\n",
    "    #TODO change to step to neg/pos int for direction\n",
    "    def right(self, nsteps):\n",
    "        self.step(self.xpins, direction=-1, nsteps=nsteps)\n",
    "    def left(self, nsteps):\n",
    "        self.step(self.xpins, direction=1, nsteps=nsteps)\n",
    "    def up(self, nsteps):\n",
    "        self.step(self.ypins, direction=1, nsteps=nsteps)\n",
    "    def down(self, nsteps):\n",
    "        self.step(self.ypins, direction=-1, nsteps=nsteps)\n",
    "        \n",
    "    def set_home(self):\n",
    "        self.xpos = 0\n",
    "        self.ypos = 0\n",
    "    \n",
    "    @property    \n",
    "    def coordinates(self):\n",
    "        return (self.xpos, self.ypos)\n",
    "        \n",
    "    def goto(self, x, y):\n",
    "        xsteps = x - self.xpos\n",
    "        # self.step(xsteps) \n",
    "        if xsteps < 0:\n",
    "            self.right(abs(xsteps))\n",
    "        elif xsteps > 0:\n",
    "            self.left(xsteps)\n",
    "        \n",
    "        ysteps = y - self.ypos\n",
    "        if ysteps < 0:\n",
    "            self.down(abs(ysteps))\n",
    "        elif ysteps > 0:\n",
    "            self.up(ysteps)\n",
    "        \n",
    "    def home(self):\n",
    "        # x\n",
    "        # self.goto(0,0)\n",
    "        if self.xpos < 0:\n",
    "            self.left(abs(self.xpos))\n",
    "        elif self.xpos > 0:\n",
    "            self.right(self.xpos)\n",
    "        # y\n",
    "        if self.ypos < 0:\n",
    "            self.up(abs(self.ypos))\n",
    "        elif self.ypos > 0:\n",
    "            self.down(self.ypos)\n",
    "        \n",
    "    def step(self, pins, direction=1, nsteps=1000, speed=1):\n",
    "        # Use BCM GPIO references\n",
    "        # instead of physical pin numbers\n",
    "        GPIO.setmode(GPIO.BCM)\n",
    "        StepPins = pins\n",
    "        # Set all pins as output\n",
    "        for pin in StepPins:\n",
    "          GPIO.setup(pin,GPIO.OUT)\n",
    "          GPIO.output(pin, False)\n",
    "\n",
    "        # Define advanced sequence\n",
    "        # as shown in manufacturers datasheet\n",
    "        Seq = [[1,0,0,1],\n",
    "               [1,0,0,0],\n",
    "               [1,1,0,0],\n",
    "               [0,1,0,0],\n",
    "               [0,1,1,0],\n",
    "               [0,0,1,0],\n",
    "               [0,0,1,1],\n",
    "               [0,0,0,1]]\n",
    "\n",
    "        StepCount = len(Seq)\n",
    "        StepDir = direction # Set to 1 or 2 for clockwise\n",
    "                    # Set to -1 or -2 for anti-clockwise\n",
    "\n",
    "        # Read wait time from command line\n",
    "        wait = 1\n",
    "\n",
    "        if wait:\n",
    "          WaitTime = float(wait)/float(1000)\n",
    "        else:\n",
    "          WaitTime = 10/float(1000)\n",
    "\n",
    "        # Initialise variables\n",
    "        StepCounter = 0\n",
    "\n",
    "        # Start main loop\n",
    "        for _ in range (nsteps):\n",
    "\n",
    "          for pin in range(0, 4):\n",
    "            xpin = StepPins[pin]\n",
    "            if Seq[StepCounter][pin]!=0:\n",
    "              GPIO.output(xpin, True)\n",
    "            else:\n",
    "              GPIO.output(xpin, False)\n",
    "\n",
    "          StepCounter += StepDir\n",
    "\n",
    "          # If we reach the end of the sequence\n",
    "          # start again\n",
    "          if (StepCounter>=StepCount):\n",
    "            StepCounter = 0\n",
    "          if (StepCounter<0):\n",
    "            StepCounter = StepCount+StepDir\n",
    "\n",
    "          # Wait before moving on\n",
    "          time.sleep(WaitTime)\n",
    "        \n",
    "        if pins == self.xpins:\n",
    "            self.xpos += direction * nsteps\n",
    "        else:\n",
    "            self.ypos += direction * nsteps\n",
    "        GPIO.cleanup()\n",
    "\n",
    "        "
   ]
  },
  {
   "cell_type": "code",
   "execution_count": 6,
   "metadata": {},
   "outputs": [],
   "source": [
    "stage = Stage([6,13,19,26], [17,22,23,24])"
   ]
  },
  {
   "cell_type": "code",
   "execution_count": 12,
   "metadata": {},
   "outputs": [],
   "source": [
    "stage.up(1000)"
   ]
  },
  {
   "cell_type": "code",
   "execution_count": 16,
   "metadata": {},
   "outputs": [],
   "source": [
    "stage.right(8000)"
   ]
  },
  {
   "cell_type": "code",
   "execution_count": 9,
   "metadata": {},
   "outputs": [],
   "source": [
    "stage.home()"
   ]
  },
  {
   "cell_type": "code",
   "execution_count": 46,
   "metadata": {},
   "outputs": [
    {
     "data": {
      "text/plain": [
       "(0, 0)"
      ]
     },
     "execution_count": 46,
     "metadata": {},
     "output_type": "execute_result"
    }
   ],
   "source": [
    "stage.coordinates"
   ]
  },
  {
   "cell_type": "code",
   "execution_count": 51,
   "metadata": {},
   "outputs": [],
   "source": [
    "stage.goto(20000, 0)"
   ]
  },
  {
   "cell_type": "code",
   "execution_count": 17,
   "metadata": {},
   "outputs": [
    {
     "data": {
      "text/plain": [
       "(-12000, 3000)"
      ]
     },
     "execution_count": 17,
     "metadata": {},
     "output_type": "execute_result"
    }
   ],
   "source": [
    "stage.coordinates"
   ]
  },
  {
   "cell_type": "code",
   "execution_count": 18,
   "metadata": {},
   "outputs": [],
   "source": [
    "stage.set_home()"
   ]
  },
  {
   "cell_type": "code",
   "execution_count": 24,
   "metadata": {},
   "outputs": [
    {
     "ename": "KeyboardInterrupt",
     "evalue": "",
     "output_type": "error",
     "traceback": [
      "\u001b[0;31m---------------------------------------------------------------------------\u001b[0m",
      "\u001b[0;31mKeyboardInterrupt\u001b[0m                         Traceback (most recent call last)",
      "\u001b[0;32m<ipython-input-24-9fcd842791d6>\u001b[0m in \u001b[0;36m<module>\u001b[0;34m()\u001b[0m\n\u001b[1;32m      1\u001b[0m \u001b[0;32mfor\u001b[0m \u001b[0m_\u001b[0m \u001b[0;32min\u001b[0m \u001b[0mrange\u001b[0m\u001b[0;34m(\u001b[0m\u001b[0;36m20\u001b[0m\u001b[0;34m)\u001b[0m\u001b[0;34m:\u001b[0m\u001b[0;34m\u001b[0m\u001b[0m\n\u001b[1;32m      2\u001b[0m     \u001b[0mstage\u001b[0m\u001b[0;34m.\u001b[0m\u001b[0mgoto\u001b[0m\u001b[0;34m(\u001b[0m\u001b[0;34m-\u001b[0m\u001b[0;36m2500\u001b[0m\u001b[0;34m,\u001b[0m \u001b[0;36m2000\u001b[0m\u001b[0;34m)\u001b[0m\u001b[0;34m\u001b[0m\u001b[0m\n\u001b[0;32m----> 3\u001b[0;31m     \u001b[0mstage\u001b[0m\u001b[0;34m.\u001b[0m\u001b[0mgoto\u001b[0m\u001b[0;34m(\u001b[0m\u001b[0;36m5000\u001b[0m\u001b[0;34m,\u001b[0m \u001b[0;34m-\u001b[0m\u001b[0;36m2500\u001b[0m\u001b[0;34m)\u001b[0m\u001b[0;34m\u001b[0m\u001b[0m\n\u001b[0m\u001b[1;32m      4\u001b[0m     \u001b[0mstage\u001b[0m\u001b[0;34m.\u001b[0m\u001b[0mhome\u001b[0m\u001b[0;34m(\u001b[0m\u001b[0;34m)\u001b[0m\u001b[0;34m\u001b[0m\u001b[0m\n",
      "\u001b[0;32m<ipython-input-5-089094132e2c>\u001b[0m in \u001b[0;36mgoto\u001b[0;34m(self, x, y)\u001b[0m\n\u001b[1;32m     28\u001b[0m             \u001b[0mself\u001b[0m\u001b[0;34m.\u001b[0m\u001b[0mright\u001b[0m\u001b[0;34m(\u001b[0m\u001b[0mabs\u001b[0m\u001b[0;34m(\u001b[0m\u001b[0mxsteps\u001b[0m\u001b[0;34m)\u001b[0m\u001b[0;34m)\u001b[0m\u001b[0;34m\u001b[0m\u001b[0m\n\u001b[1;32m     29\u001b[0m         \u001b[0;32melif\u001b[0m \u001b[0mxsteps\u001b[0m \u001b[0;34m>\u001b[0m \u001b[0;36m0\u001b[0m\u001b[0;34m:\u001b[0m\u001b[0;34m\u001b[0m\u001b[0m\n\u001b[0;32m---> 30\u001b[0;31m             \u001b[0mself\u001b[0m\u001b[0;34m.\u001b[0m\u001b[0mleft\u001b[0m\u001b[0;34m(\u001b[0m\u001b[0mxsteps\u001b[0m\u001b[0;34m)\u001b[0m\u001b[0;34m\u001b[0m\u001b[0m\n\u001b[0m\u001b[1;32m     31\u001b[0m \u001b[0;34m\u001b[0m\u001b[0m\n\u001b[1;32m     32\u001b[0m         \u001b[0mysteps\u001b[0m \u001b[0;34m=\u001b[0m \u001b[0my\u001b[0m \u001b[0;34m-\u001b[0m \u001b[0mself\u001b[0m\u001b[0;34m.\u001b[0m\u001b[0mypos\u001b[0m\u001b[0;34m\u001b[0m\u001b[0m\n",
      "\u001b[0;32m<ipython-input-5-089094132e2c>\u001b[0m in \u001b[0;36mleft\u001b[0;34m(self, nsteps)\u001b[0m\n\u001b[1;32m      9\u001b[0m         \u001b[0mself\u001b[0m\u001b[0;34m.\u001b[0m\u001b[0mstep\u001b[0m\u001b[0;34m(\u001b[0m\u001b[0mself\u001b[0m\u001b[0;34m.\u001b[0m\u001b[0mxpins\u001b[0m\u001b[0;34m,\u001b[0m \u001b[0mdirection\u001b[0m\u001b[0;34m=\u001b[0m\u001b[0;34m-\u001b[0m\u001b[0;36m1\u001b[0m\u001b[0;34m,\u001b[0m \u001b[0mnsteps\u001b[0m\u001b[0;34m=\u001b[0m\u001b[0mnsteps\u001b[0m\u001b[0;34m)\u001b[0m\u001b[0;34m\u001b[0m\u001b[0m\n\u001b[1;32m     10\u001b[0m     \u001b[0;32mdef\u001b[0m \u001b[0mleft\u001b[0m\u001b[0;34m(\u001b[0m\u001b[0mself\u001b[0m\u001b[0;34m,\u001b[0m \u001b[0mnsteps\u001b[0m\u001b[0;34m)\u001b[0m\u001b[0;34m:\u001b[0m\u001b[0;34m\u001b[0m\u001b[0m\n\u001b[0;32m---> 11\u001b[0;31m         \u001b[0mself\u001b[0m\u001b[0;34m.\u001b[0m\u001b[0mstep\u001b[0m\u001b[0;34m(\u001b[0m\u001b[0mself\u001b[0m\u001b[0;34m.\u001b[0m\u001b[0mxpins\u001b[0m\u001b[0;34m,\u001b[0m \u001b[0mdirection\u001b[0m\u001b[0;34m=\u001b[0m\u001b[0;36m1\u001b[0m\u001b[0;34m,\u001b[0m \u001b[0mnsteps\u001b[0m\u001b[0;34m=\u001b[0m\u001b[0mnsteps\u001b[0m\u001b[0;34m)\u001b[0m\u001b[0;34m\u001b[0m\u001b[0m\n\u001b[0m\u001b[1;32m     12\u001b[0m     \u001b[0;32mdef\u001b[0m \u001b[0mup\u001b[0m\u001b[0;34m(\u001b[0m\u001b[0mself\u001b[0m\u001b[0;34m,\u001b[0m \u001b[0mnsteps\u001b[0m\u001b[0;34m)\u001b[0m\u001b[0;34m:\u001b[0m\u001b[0;34m\u001b[0m\u001b[0m\n\u001b[1;32m     13\u001b[0m         \u001b[0mself\u001b[0m\u001b[0;34m.\u001b[0m\u001b[0mstep\u001b[0m\u001b[0;34m(\u001b[0m\u001b[0mself\u001b[0m\u001b[0;34m.\u001b[0m\u001b[0mypins\u001b[0m\u001b[0;34m,\u001b[0m \u001b[0mdirection\u001b[0m\u001b[0;34m=\u001b[0m\u001b[0;36m1\u001b[0m\u001b[0;34m,\u001b[0m \u001b[0mnsteps\u001b[0m\u001b[0;34m=\u001b[0m\u001b[0mnsteps\u001b[0m\u001b[0;34m)\u001b[0m\u001b[0;34m\u001b[0m\u001b[0m\n",
      "\u001b[0;32m<ipython-input-5-089094132e2c>\u001b[0m in \u001b[0;36mstep\u001b[0;34m(self, pins, direction, nsteps, speed)\u001b[0m\n\u001b[1;32m    104\u001b[0m \u001b[0;34m\u001b[0m\u001b[0m\n\u001b[1;32m    105\u001b[0m           \u001b[0;31m# Wait before moving on\u001b[0m\u001b[0;34m\u001b[0m\u001b[0;34m\u001b[0m\u001b[0m\n\u001b[0;32m--> 106\u001b[0;31m           \u001b[0mtime\u001b[0m\u001b[0;34m.\u001b[0m\u001b[0msleep\u001b[0m\u001b[0;34m(\u001b[0m\u001b[0mWaitTime\u001b[0m\u001b[0;34m)\u001b[0m\u001b[0;34m\u001b[0m\u001b[0m\n\u001b[0m\u001b[1;32m    107\u001b[0m \u001b[0;34m\u001b[0m\u001b[0m\n\u001b[1;32m    108\u001b[0m         \u001b[0;32mif\u001b[0m \u001b[0mpins\u001b[0m \u001b[0;34m==\u001b[0m \u001b[0mself\u001b[0m\u001b[0;34m.\u001b[0m\u001b[0mxpins\u001b[0m\u001b[0;34m:\u001b[0m\u001b[0;34m\u001b[0m\u001b[0m\n",
      "\u001b[0;31mKeyboardInterrupt\u001b[0m: "
     ]
    }
   ],
   "source": [
    "for _ in range(20):\n",
    "    stage.goto(-2500, 2000)\n",
    "    stage.goto(5000, -2500)\n",
    "    stage.home()"
   ]
  },
  {
   "cell_type": "code",
   "execution_count": 25,
   "metadata": {},
   "outputs": [],
   "source": [
    "stage.home()"
   ]
  },
  {
   "cell_type": "code",
   "execution_count": 15,
   "metadata": {},
   "outputs": [],
   "source": []
  },
  {
   "cell_type": "code",
   "execution_count": 14,
   "metadata": {},
   "outputs": [
    {
     "name": "stdout",
     "output_type": "stream",
     "text": [
      "--2018-08-27 21:48:33--  https://gist.githubusercontent.com/python-friends/b51f4deb7d3e35ff516d1682460c3588/raw/GPIO.py\n",
      "Resolving gist.githubusercontent.com (gist.githubusercontent.com)... 151.101.96.133\n",
      "Connecting to gist.githubusercontent.com (gist.githubusercontent.com)|151.101.96.133|:443... connected.\n",
      "HTTP request sent, awaiting response... 200 OK\n",
      "Length: 216 [text/plain]\n",
      "Saving to: ‘RPi/GPIO.py’\n",
      "\n",
      "RPi/GPIO.py         100%[=====================>]     216  --.-KB/s   in 0s     \n",
      "\n",
      "Last-modified header missing -- time-stamps turned off.\n",
      "2018-08-27 21:48:34 (1.21 MB/s) - ‘RPi/GPIO.py’ saved [216/216]\n",
      "\n"
     ]
    }
   ],
   "source": []
  },
  {
   "cell_type": "code",
   "execution_count": 17,
   "metadata": {},
   "outputs": [
    {
     "name": "stdout",
     "output_type": "stream",
     "text": [
      "clean\n"
     ]
    }
   ],
   "source": [
    "Ggp.cleanup()"
   ]
  },
  {
   "cell_type": "code",
   "execution_count": null,
   "metadata": {},
   "outputs": [],
   "source": []
  }
 ],
 "metadata": {
  "kernelspec": {
   "display_name": "Python 3",
   "language": "python",
   "name": "python3"
  },
  "language_info": {
   "codemirror_mode": {
    "name": "ipython",
    "version": 3
   },
   "file_extension": ".py",
   "mimetype": "text/x-python",
   "name": "python",
   "nbconvert_exporter": "python",
   "pygments_lexer": "ipython3",
   "version": "3.6.2"
  }
 },
 "nbformat": 4,
 "nbformat_minor": 2
}
